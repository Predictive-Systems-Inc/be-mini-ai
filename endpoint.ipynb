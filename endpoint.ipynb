{
 "cells": [
  {
   "cell_type": "code",
   "execution_count": 2,
   "id": "eb49eecf",
   "metadata": {},
   "outputs": [],
   "source": [
    "import requests\n"
   ]
  },
  {
   "cell_type": "code",
   "execution_count": 8,
   "id": "0689d828",
   "metadata": {},
   "outputs": [
    {
     "name": "stdout",
     "output_type": "stream",
     "text": [
      "Root: 404 {'detail': 'Not Found'}\n"
     ]
    }
   ],
   "source": [
    "# Test basic endpoint\n",
    "response = requests.get(\"https://allanctan-ai-be-mini-ai.hf.space/\")\n",
    "print(\"Root:\", response.status_code, response.json())\n",
    "\n"
   ]
  },
  {
   "cell_type": "code",
   "execution_count": 5,
   "id": "19a9db34",
   "metadata": {},
   "outputs": [
    {
     "name": "stdout",
     "output_type": "stream",
     "text": [
      "Health: 404 {'detail': 'Not Found'}\n"
     ]
    }
   ],
   "source": [
    "# Test health\n",
    "response = requests.get(\"https://allanctan-ai-be-mini-ai.hf.space/health\")\n",
    "print(\"Health:\", response.status_code, response.json())"
   ]
  },
  {
   "cell_type": "code",
   "execution_count": 5,
   "id": "7deef4e2",
   "metadata": {},
   "outputs": [
    {
     "name": "stdout",
     "output_type": "stream",
     "text": [
      "Status: 500\n"
     ]
    },
    {
     "ename": "JSONDecodeError",
     "evalue": "Expecting value: line 1 column 1 (char 0)",
     "output_type": "error",
     "traceback": [
      "\u001b[31m---------------------------------------------------------------------------\u001b[39m",
      "\u001b[31mJSONDecodeError\u001b[39m                           Traceback (most recent call last)",
      "\u001b[36mFile \u001b[39m\u001b[32m/Library/Frameworks/Python.framework/Versions/3.12/lib/python3.12/site-packages/requests/models.py:976\u001b[39m, in \u001b[36mResponse.json\u001b[39m\u001b[34m(self, **kwargs)\u001b[39m\n\u001b[32m    975\u001b[39m \u001b[38;5;28;01mtry\u001b[39;00m:\n\u001b[32m--> \u001b[39m\u001b[32m976\u001b[39m     \u001b[38;5;28;01mreturn\u001b[39;00m \u001b[43mcomplexjson\u001b[49m\u001b[43m.\u001b[49m\u001b[43mloads\u001b[49m\u001b[43m(\u001b[49m\u001b[38;5;28;43mself\u001b[39;49m\u001b[43m.\u001b[49m\u001b[43mtext\u001b[49m\u001b[43m,\u001b[49m\u001b[43m \u001b[49m\u001b[43m*\u001b[49m\u001b[43m*\u001b[49m\u001b[43mkwargs\u001b[49m\u001b[43m)\u001b[49m\n\u001b[32m    977\u001b[39m \u001b[38;5;28;01mexcept\u001b[39;00m JSONDecodeError \u001b[38;5;28;01mas\u001b[39;00m e:\n\u001b[32m    978\u001b[39m     \u001b[38;5;66;03m# Catch JSON-related errors and raise as requests.JSONDecodeError\u001b[39;00m\n\u001b[32m    979\u001b[39m     \u001b[38;5;66;03m# This aliases json.JSONDecodeError and simplejson.JSONDecodeError\u001b[39;00m\n",
      "\u001b[36mFile \u001b[39m\u001b[32m/Library/Frameworks/Python.framework/Versions/3.12/lib/python3.12/json/__init__.py:346\u001b[39m, in \u001b[36mloads\u001b[39m\u001b[34m(s, cls, object_hook, parse_float, parse_int, parse_constant, object_pairs_hook, **kw)\u001b[39m\n\u001b[32m    343\u001b[39m \u001b[38;5;28;01mif\u001b[39;00m (\u001b[38;5;28mcls\u001b[39m \u001b[38;5;129;01mis\u001b[39;00m \u001b[38;5;28;01mNone\u001b[39;00m \u001b[38;5;129;01mand\u001b[39;00m object_hook \u001b[38;5;129;01mis\u001b[39;00m \u001b[38;5;28;01mNone\u001b[39;00m \u001b[38;5;129;01mand\u001b[39;00m\n\u001b[32m    344\u001b[39m         parse_int \u001b[38;5;129;01mis\u001b[39;00m \u001b[38;5;28;01mNone\u001b[39;00m \u001b[38;5;129;01mand\u001b[39;00m parse_float \u001b[38;5;129;01mis\u001b[39;00m \u001b[38;5;28;01mNone\u001b[39;00m \u001b[38;5;129;01mand\u001b[39;00m\n\u001b[32m    345\u001b[39m         parse_constant \u001b[38;5;129;01mis\u001b[39;00m \u001b[38;5;28;01mNone\u001b[39;00m \u001b[38;5;129;01mand\u001b[39;00m object_pairs_hook \u001b[38;5;129;01mis\u001b[39;00m \u001b[38;5;28;01mNone\u001b[39;00m \u001b[38;5;129;01mand\u001b[39;00m \u001b[38;5;129;01mnot\u001b[39;00m kw):\n\u001b[32m--> \u001b[39m\u001b[32m346\u001b[39m     \u001b[38;5;28;01mreturn\u001b[39;00m \u001b[43m_default_decoder\u001b[49m\u001b[43m.\u001b[49m\u001b[43mdecode\u001b[49m\u001b[43m(\u001b[49m\u001b[43ms\u001b[49m\u001b[43m)\u001b[49m\n\u001b[32m    347\u001b[39m \u001b[38;5;28;01mif\u001b[39;00m \u001b[38;5;28mcls\u001b[39m \u001b[38;5;129;01mis\u001b[39;00m \u001b[38;5;28;01mNone\u001b[39;00m:\n",
      "\u001b[36mFile \u001b[39m\u001b[32m/Library/Frameworks/Python.framework/Versions/3.12/lib/python3.12/json/decoder.py:338\u001b[39m, in \u001b[36mJSONDecoder.decode\u001b[39m\u001b[34m(self, s, _w)\u001b[39m\n\u001b[32m    334\u001b[39m \u001b[38;5;250m\u001b[39m\u001b[33;03m\"\"\"Return the Python representation of ``s`` (a ``str`` instance\u001b[39;00m\n\u001b[32m    335\u001b[39m \u001b[33;03mcontaining a JSON document).\u001b[39;00m\n\u001b[32m    336\u001b[39m \n\u001b[32m    337\u001b[39m \u001b[33;03m\"\"\"\u001b[39;00m\n\u001b[32m--> \u001b[39m\u001b[32m338\u001b[39m obj, end = \u001b[38;5;28;43mself\u001b[39;49m\u001b[43m.\u001b[49m\u001b[43mraw_decode\u001b[49m\u001b[43m(\u001b[49m\u001b[43ms\u001b[49m\u001b[43m,\u001b[49m\u001b[43m \u001b[49m\u001b[43midx\u001b[49m\u001b[43m=\u001b[49m\u001b[43m_w\u001b[49m\u001b[43m(\u001b[49m\u001b[43ms\u001b[49m\u001b[43m,\u001b[49m\u001b[43m \u001b[49m\u001b[32;43m0\u001b[39;49m\u001b[43m)\u001b[49m\u001b[43m.\u001b[49m\u001b[43mend\u001b[49m\u001b[43m(\u001b[49m\u001b[43m)\u001b[49m\u001b[43m)\u001b[49m\n\u001b[32m    339\u001b[39m end = _w(s, end).end()\n",
      "\u001b[36mFile \u001b[39m\u001b[32m/Library/Frameworks/Python.framework/Versions/3.12/lib/python3.12/json/decoder.py:356\u001b[39m, in \u001b[36mJSONDecoder.raw_decode\u001b[39m\u001b[34m(self, s, idx)\u001b[39m\n\u001b[32m    355\u001b[39m \u001b[38;5;28;01mexcept\u001b[39;00m \u001b[38;5;167;01mStopIteration\u001b[39;00m \u001b[38;5;28;01mas\u001b[39;00m err:\n\u001b[32m--> \u001b[39m\u001b[32m356\u001b[39m     \u001b[38;5;28;01mraise\u001b[39;00m JSONDecodeError(\u001b[33m\"\u001b[39m\u001b[33mExpecting value\u001b[39m\u001b[33m\"\u001b[39m, s, err.value) \u001b[38;5;28;01mfrom\u001b[39;00m\u001b[38;5;250m \u001b[39m\u001b[38;5;28;01mNone\u001b[39;00m\n\u001b[32m    357\u001b[39m \u001b[38;5;28;01mreturn\u001b[39;00m obj, end\n",
      "\u001b[31mJSONDecodeError\u001b[39m: Expecting value: line 1 column 1 (char 0)",
      "\nDuring handling of the above exception, another exception occurred:\n",
      "\u001b[31mJSONDecodeError\u001b[39m                           Traceback (most recent call last)",
      "\u001b[36mCell\u001b[39m\u001b[36m \u001b[39m\u001b[32mIn[5]\u001b[39m\u001b[32m, line 9\u001b[39m\n\u001b[32m      6\u001b[39m     response = requests.post(url, files=files)\n\u001b[32m      8\u001b[39m \u001b[38;5;28mprint\u001b[39m(\u001b[33mf\u001b[39m\u001b[33m\"\u001b[39m\u001b[33mStatus: \u001b[39m\u001b[38;5;132;01m{\u001b[39;00mresponse.status_code\u001b[38;5;132;01m}\u001b[39;00m\u001b[33m\"\u001b[39m)\n\u001b[32m----> \u001b[39m\u001b[32m9\u001b[39m \u001b[38;5;28mprint\u001b[39m(\u001b[33mf\u001b[39m\u001b[33m\"\u001b[39m\u001b[33mResponse: \u001b[39m\u001b[38;5;132;01m{\u001b[39;00m\u001b[43mresponse\u001b[49m\u001b[43m.\u001b[49m\u001b[43mjson\u001b[49m\u001b[43m(\u001b[49m\u001b[43m)\u001b[49m\u001b[38;5;132;01m}\u001b[39;00m\u001b[33m\"\u001b[39m)\n",
      "\u001b[36mFile \u001b[39m\u001b[32m/Library/Frameworks/Python.framework/Versions/3.12/lib/python3.12/site-packages/requests/models.py:980\u001b[39m, in \u001b[36mResponse.json\u001b[39m\u001b[34m(self, **kwargs)\u001b[39m\n\u001b[32m    976\u001b[39m     \u001b[38;5;28;01mreturn\u001b[39;00m complexjson.loads(\u001b[38;5;28mself\u001b[39m.text, **kwargs)\n\u001b[32m    977\u001b[39m \u001b[38;5;28;01mexcept\u001b[39;00m JSONDecodeError \u001b[38;5;28;01mas\u001b[39;00m e:\n\u001b[32m    978\u001b[39m     \u001b[38;5;66;03m# Catch JSON-related errors and raise as requests.JSONDecodeError\u001b[39;00m\n\u001b[32m    979\u001b[39m     \u001b[38;5;66;03m# This aliases json.JSONDecodeError and simplejson.JSONDecodeError\u001b[39;00m\n\u001b[32m--> \u001b[39m\u001b[32m980\u001b[39m     \u001b[38;5;28;01mraise\u001b[39;00m RequestsJSONDecodeError(e.msg, e.doc, e.pos)\n",
      "\u001b[31mJSONDecodeError\u001b[39m: Expecting value: line 1 column 1 (char 0)"
     ]
    }
   ],
   "source": [
    "\n",
    "url = \"https://ymhhvwsjp7v90d-8080.proxy.runpod.net/transcribe/\"\n",
    "\n",
    "# Correct way - actually open and send the file\n",
    "with open(\"voice/a_projectile_is.wav\", \"rb\") as audio_file:\n",
    "    files = {\"file\": (\"a_projectile_is.wav\", audio_file, \"audio/wav\")}\n",
    "    response = requests.post(url, files=files)\n",
    "    \n",
    "print(f\"Status: {response.status_code}\")\n",
    "print(f\"Response: {response.json()}\")"
   ]
  },
  {
   "cell_type": "code",
   "execution_count": 29,
   "id": "e6759b0d",
   "metadata": {},
   "outputs": [],
   "source": [
    "import json\n",
    "# Preload the JSON data at module level\n",
    "try:\n",
    "    with open(\"conversation-tree-simplified-with-audio.json\", 'r', encoding='utf-8') as file:\n",
    "        JSON_DATA = json.load(file)\n",
    "except FileNotFoundError:\n",
    "    print(\"❌ Error: File 'all_questions_with_audio.json' not found.\")\n",
    "    JSON_DATA = {}\n",
    "except json.JSONDecodeError as e:\n",
    "    print(f\"❌ Error: Invalid JSON format - {e}\")\n",
    "    JSON_DATA = {}\n",
    "except Exception as e:\n",
    "    print(f\"❌ Error: {e}\")\n",
    "    JSON_DATA = {}"
   ]
  },
  {
   "cell_type": "code",
   "execution_count": null,
   "id": "080dfe30",
   "metadata": {},
   "outputs": [
    {
     "name": "stdout",
     "output_type": "stream",
     "text": [
      "{'speaker': 'question', 'message': 'Within the topic of projectile motion, how would you describe a projectile?', 'criteria': ['Answer must define projectile and projectile motion', 'Answer must mention gravity as the sole influence on the object.'], 'children': [{'speaker': 'teacher_2', 'message': 'When we talk about projectile motion, how would you describe a projectile?', 'tag': 'teacher_2_student_2_question_1_0001', 'audio link': 'https://huggingface.co/mon1111/mini-conversations-v2/resolve/main/teacher_2_student_2_question_1_0001.wav?download=true', 'responses': [{'speaker': 'student_2', 'message': \"Hmm, okay. So, a projectile is like, anything that gets thrown or shot and then it's just moving through the air.\", 'tag': 'teacher_2_student_2_question_1_0002', 'audio link': 'https://huggingface.co/mon1111/mini-conversations-v2/resolve/main/teacher_2_student_2_question_1_0002.wav?download=true', 'responses': [{'speaker': 'teacher_2', 'message': \"That's a good start. Think of the main force acting on the object once it has been launched.\", 'tag': 'teacher_2_student_2_question_1_0003', 'audio link': 'https://huggingface.co/mon1111/mini-conversations-v2/resolve/main/teacher_2_student_2_question_1_0003.wav?download=true', 'responses': [{'speaker': 'student_2', 'message': \"Oh, right! Once it's launched, the main thing pulling it down would be gravity.\", 'tag': 'teacher_2_student_2_question_1_0004', 'audio link': 'https://huggingface.co/mon1111/mini-conversations-v2/resolve/main/teacher_2_student_2_question_1_0004.wav?download=true', 'responses': [{'speaker': 'teacher_2', 'message': 'Correct. Alright, moving to the next one.', 'tag': 'teacher_2_student_2_question_1_0005', 'audio link': 'https://huggingface.co/mon1111/mini-conversations-v2/resolve/main/teacher_2_student_2_question_1_0005.wav?download=true'}]}]}]}]}, {'speaker': 'teacher_2', 'message': 'When we discuss projectile motion, how would you describe a projectile?', 'tag': 'teacher_2_student_3_question_1_0001', 'audio link': 'https://huggingface.co/mon1111/mini-conversations-v2/resolve/main/teacher_2_student_3_question_1_0001.wav?download=true', 'responses': [{'speaker': 'student_3', 'message': \"A projectile is an object that's been launched or thrown into the air, and the only significant force acting on it after that initial push is gravity. We usually ignore air resistance in our discussions.\", 'tag': 'teacher_2_student_3_question_1_0002', 'audio link': 'https://huggingface.co/mon1111/mini-conversations-v2/resolve/main/teacher_2_student_3_question_1_0002.wav?download=true', 'responses': [{'speaker': 'teacher_2', 'message': 'Correct. Here comes the next question.', 'tag': 'teacher_2_student_3_question_1_0003', 'audio link': 'https://huggingface.co/mon1111/mini-conversations-v2/resolve/main/teacher_2_student_3_question_1_0003.wav?download=true'}]}]}, {'speaker': 'teacher_2', 'message': 'How would you describe a projectile within the topic of projectile motion?', 'tag': 'teacher_2_student_6_question_1_0001', 'audio link': 'https://huggingface.co/mon1111/mini-conversations-v2/resolve/main/teacher_2_student_6_question_1_0001.wav?download=true', 'responses': [{'speaker': 'student_6', 'message': 'Dunno, teacher.', 'tag': 'teacher_2_student_6_question_1_0002', 'audio link': 'https://huggingface.co/mon1111/mini-conversations-v2/resolve/main/teacher_2_student_6_question_1_0002.wav?download=true', 'responses': [{'speaker': 'teacher_2', 'message': \"Remember that a projectile is an object moving through the air that is only affected by one specific force after it's launched.\", 'tag': 'teacher_2_student_6_question_1_0003', 'audio link': 'https://huggingface.co/mon1111/mini-conversations-v2/resolve/main/teacher_2_student_6_question_1_0003.wav?download=true', 'responses': [{'speaker': 'student_6', 'message': \"Oh. So it's an object, like, just flying through the air, and only gravity is pulling it down after it's launched.\", 'tag': 'teacher_2_student_6_question_1_0004', 'audio link': 'https://huggingface.co/mon1111/mini-conversations-v2/resolve/main/teacher_2_student_6_question_1_0004.wav?download=true', 'responses': [{'speaker': 'teacher_2', 'message': \"Good job. Good, let's move on.\", 'tag': 'teacher_2_student_6_question_1_0005', 'audio link': 'https://huggingface.co/mon1111/mini-conversations-v2/resolve/main/teacher_2_student_6_question_1_0005.wav?download=true'}]}]}]}]}]}\n",
      "{'speaker': 'teacher_2', 'message': 'When we talk about projectile motion, how would you describe a projectile?', 'tag': 'teacher_2_student_2_question_1_0001', 'audio link': 'https://huggingface.co/mon1111/mini-conversations-v2/resolve/main/teacher_2_student_2_question_1_0001.wav?download=true', 'responses': [{'speaker': 'student_2', 'message': \"Hmm, okay. So, a projectile is like, anything that gets thrown or shot and then it's just moving through the air.\", 'tag': 'teacher_2_student_2_question_1_0002', 'audio link': 'https://huggingface.co/mon1111/mini-conversations-v2/resolve/main/teacher_2_student_2_question_1_0002.wav?download=true', 'responses': [{'speaker': 'teacher_2', 'message': \"That's a good start. Think of the main force acting on the object once it has been launched.\", 'tag': 'teacher_2_student_2_question_1_0003', 'audio link': 'https://huggingface.co/mon1111/mini-conversations-v2/resolve/main/teacher_2_student_2_question_1_0003.wav?download=true', 'responses': [{'speaker': 'student_2', 'message': \"Oh, right! Once it's launched, the main thing pulling it down would be gravity.\", 'tag': 'teacher_2_student_2_question_1_0004', 'audio link': 'https://huggingface.co/mon1111/mini-conversations-v2/resolve/main/teacher_2_student_2_question_1_0004.wav?download=true', 'responses': [{'speaker': 'teacher_2', 'message': 'Correct. Alright, moving to the next one.', 'tag': 'teacher_2_student_2_question_1_0005', 'audio link': 'https://huggingface.co/mon1111/mini-conversations-v2/resolve/main/teacher_2_student_2_question_1_0005.wav?download=true'}]}]}]}]}\n",
      "{'speaker': 'student_2', 'message': \"Hmm, okay. So, a projectile is like, anything that gets thrown or shot and then it's just moving through the air.\", 'tag': 'teacher_2_student_2_question_1_0002', 'audio link': 'https://huggingface.co/mon1111/mini-conversations-v2/resolve/main/teacher_2_student_2_question_1_0002.wav?download=true', 'responses': [{'speaker': 'teacher_2', 'message': \"That's a good start. Think of the main force acting on the object once it has been launched.\", 'tag': 'teacher_2_student_2_question_1_0003', 'audio link': 'https://huggingface.co/mon1111/mini-conversations-v2/resolve/main/teacher_2_student_2_question_1_0003.wav?download=true', 'responses': [{'speaker': 'student_2', 'message': \"Oh, right! Once it's launched, the main thing pulling it down would be gravity.\", 'tag': 'teacher_2_student_2_question_1_0004', 'audio link': 'https://huggingface.co/mon1111/mini-conversations-v2/resolve/main/teacher_2_student_2_question_1_0004.wav?download=true', 'responses': [{'speaker': 'teacher_2', 'message': 'Correct. Alright, moving to the next one.', 'tag': 'teacher_2_student_2_question_1_0005', 'audio link': 'https://huggingface.co/mon1111/mini-conversations-v2/resolve/main/teacher_2_student_2_question_1_0005.wav?download=true'}]}]}]}\n"
     ]
    }
   ],
   "source": [
    "def get_first_question(speaker_name):\n",
    "    initial_question = JSON_DATA['questions'][0]\n",
    "    for question in initial_question['children']:\n",
    "        print(question.get('speaker'))\n",
    "        if question.get('speaker') == speaker_name:\n",
    "\n",
    "\n",
    "# get the first question\n",
    "question = JSON_DATA[\"questions\"][0]\n",
    "print(question)\n",
    "\n",
    "# get the first child of the first question\n",
    "child = question[\"children\"][0]\n",
    "print(child)\n",
    "\n",
    "# get the first response of the first child\n",
    "response = child[\"responses\"][0]\n",
    "print(response)"
   ]
  },
  {
   "cell_type": "code",
   "execution_count": 16,
   "id": "a484f558",
   "metadata": {},
   "outputs": [
    {
     "name": "stdout",
     "output_type": "stream",
     "text": [
      "teacher_2\n",
      "{'message': 'When we talk about projectile motion, how would you describe a projectile?', 'question': 'Within the topic of projectile motion, how would you describe a projectile?', 'criteria': ['Answer must define projectile and projectile motion', 'Answer must mention gravity as the sole influence on the object.'], 'audio': 'voice/teacher_2_student_2_question_1_0001.wav?download=true'}\n"
     ]
    }
   ],
   "source": [
    "def start(speaker_name):\n",
    "    \"\"\"\n",
    "    Return message and audio for a speaker from the first level of questions.\n",
    "    \n",
    "    Args:\n",
    "        speaker_name (str): Name of the speaker (e.g., 'student_1', 'teacher_1')\n",
    "    \n",
    "    Returns:\n",
    "        dict: Dictionary containing 'message' and 'audio' for the speaker\n",
    "    \"\"\"\n",
    "    results = []\n",
    "    \n",
    "    if 'questions' in JSON_DATA:\n",
    "        initial_question = JSON_DATA['questions'][0]\n",
    "        for question in initial_question['children']:\n",
    "            print(question.get('speaker'))\n",
    "            if question.get('speaker') == speaker_name:\n",
    "                result = {\n",
    "                    'message': question.get('message', ''),\n",
    "                    'question': initial_question.get('message', ''),\n",
    "                    'criteria': initial_question.get('criteria', ''),\n",
    "                    'audio': question.get('audio link', ''),\n",
    "                }\n",
    "                return result\n",
    "    return {\n",
    "        'message':'Speaker not found',\n",
    "        'audio': ''\n",
    "    }\n",
    "\n",
    "\n",
    "initial_question = start('teacher_2')\n",
    "print(initial_question)"
   ]
  },
  {
   "cell_type": "code",
   "execution_count": 8,
   "id": "51050e62",
   "metadata": {},
   "outputs": [
    {
     "name": "stdout",
     "output_type": "stream",
     "text": [
      "{'speaker': 'question', 'message': 'Within the topic of projectile motion, how would you describe a projectile?', 'criteria': ['Answer must define projectile and projectile motion', 'Answer must mention gravity as the sole influence on the object.'], 'children': [{'speaker': 'teacher_2', 'message': 'When we talk about projectile motion, how would you describe a projectile?', 'tag': 'teacher_2_student_2_question_1_0001', 'audio link': 'https://huggingface.co/mon1111/mini-conversations-v2/resolve/main/teacher_2_student_2_question_1_0001.wav?download=true', 'responses': [{'speaker': 'student_2', 'message': \"Hmm, okay. So, a projectile is like, anything that gets thrown or shot and then it's just moving through the air.\", 'tag': 'teacher_2_student_2_question_1_0002', 'audio link': 'https://huggingface.co/mon1111/mini-conversations-v2/resolve/main/teacher_2_student_2_question_1_0002.wav?download=true', 'responses': [{'speaker': 'teacher_2', 'message': \"That's a good start. Think of the main force acting on the object once it has been launched.\", 'tag': 'teacher_2_student_2_question_1_0003', 'audio link': 'https://huggingface.co/mon1111/mini-conversations-v2/resolve/main/teacher_2_student_2_question_1_0003.wav?download=true', 'responses': [{'speaker': 'student_2', 'message': \"Oh, right! Once it's launched, the main thing pulling it down would be gravity.\", 'tag': 'teacher_2_student_2_question_1_0004', 'audio link': 'https://huggingface.co/mon1111/mini-conversations-v2/resolve/main/teacher_2_student_2_question_1_0004.wav?download=true', 'responses': [{'speaker': 'teacher_2', 'message': 'Correct. Alright, moving to the next one.', 'tag': 'teacher_2_student_2_question_1_0005', 'audio link': 'https://huggingface.co/mon1111/mini-conversations-v2/resolve/main/teacher_2_student_2_question_1_0005.wav?download=true'}]}]}]}]}, {'speaker': 'teacher_2', 'message': 'When we discuss projectile motion, how would you describe a projectile?', 'tag': 'teacher_2_student_3_question_1_0001', 'audio link': 'https://huggingface.co/mon1111/mini-conversations-v2/resolve/main/teacher_2_student_3_question_1_0001.wav?download=true', 'responses': [{'speaker': 'student_3', 'message': \"A projectile is an object that's been launched or thrown into the air, and the only significant force acting on it after that initial push is gravity. We usually ignore air resistance in our discussions.\", 'tag': 'teacher_2_student_3_question_1_0002', 'audio link': 'https://huggingface.co/mon1111/mini-conversations-v2/resolve/main/teacher_2_student_3_question_1_0002.wav?download=true', 'responses': [{'speaker': 'teacher_2', 'message': 'Correct. Here comes the next question.', 'tag': 'teacher_2_student_3_question_1_0003', 'audio link': 'https://huggingface.co/mon1111/mini-conversations-v2/resolve/main/teacher_2_student_3_question_1_0003.wav?download=true'}]}]}, {'speaker': 'teacher_2', 'message': 'How would you describe a projectile within the topic of projectile motion?', 'tag': 'teacher_2_student_6_question_1_0001', 'audio link': 'https://huggingface.co/mon1111/mini-conversations-v2/resolve/main/teacher_2_student_6_question_1_0001.wav?download=true', 'responses': [{'speaker': 'student_6', 'message': 'Dunno, teacher.', 'tag': 'teacher_2_student_6_question_1_0002', 'audio link': 'https://huggingface.co/mon1111/mini-conversations-v2/resolve/main/teacher_2_student_6_question_1_0002.wav?download=true', 'responses': [{'speaker': 'teacher_2', 'message': \"Remember that a projectile is an object moving through the air that is only affected by one specific force after it's launched.\", 'tag': 'teacher_2_student_6_question_1_0003', 'audio link': 'https://huggingface.co/mon1111/mini-conversations-v2/resolve/main/teacher_2_student_6_question_1_0003.wav?download=true', 'responses': [{'speaker': 'student_6', 'message': \"Oh. So it's an object, like, just flying through the air, and only gravity is pulling it down after it's launched.\", 'tag': 'teacher_2_student_6_question_1_0004', 'audio link': 'https://huggingface.co/mon1111/mini-conversations-v2/resolve/main/teacher_2_student_6_question_1_0004.wav?download=true', 'responses': [{'speaker': 'teacher_2', 'message': \"Good job. Good, let's move on.\", 'tag': 'teacher_2_student_6_question_1_0005', 'audio link': 'https://huggingface.co/mon1111/mini-conversations-v2/resolve/main/teacher_2_student_6_question_1_0005.wav?download=true'}]}]}]}]}]}\n"
     ]
    }
   ],
   "source": [
    "current_node = initial_question\n",
    "question_node = [question for question in JSON_DATA['questions'] if question['message'] == current_node['question']][0]\n",
    "print(question_node)"
   ]
  },
  {
   "cell_type": "code",
   "execution_count": 19,
   "id": "d30e71ab",
   "metadata": {},
   "outputs": [
    {
     "name": "stdout",
     "output_type": "stream",
     "text": [
      "[]\n"
     ]
    }
   ],
   "source": [
    "# loop all the children of question_node, file speaker == 'teacher_1'\n",
    "responses = []\n",
    "for child in question_node['children']:\n",
    "    if child['speaker'] == 'teacher_2':   \n",
    "        messages = []\n",
    "        audios = []\n",
    "        for response in child['responses']:\n",
    "            # combine the message and audio of 'teacher_1'          \n",
    "            if response['speaker'] == 'teacher_2':\n",
    "                messages.append(response['message'])\n",
    "                audios.append(response['audio'])\n",
    "            else:\n",
    "                if messages:\n",
    "                    responses.append({\n",
    "                        'message': messages,\n",
    "                        'audio': audios\n",
    "                    })\n",
    "                messages = []\n",
    "                audios = []\n",
    "        if messages:\n",
    "            responses.append({\n",
    "                'message': messages,\n",
    "                'audio': audios\n",
    "            })\n",
    "\n",
    "print(json.dumps(responses, indent=4))"
   ]
  },
  {
   "cell_type": "code",
   "execution_count": 18,
   "id": "4ecfb3aa",
   "metadata": {},
   "outputs": [
    {
     "name": "stdout",
     "output_type": "stream",
     "text": [
      "[]\n"
     ]
    }
   ],
   "source": [
    "# loop all responses and combine messages\n",
    "response_messages = []\n",
    "for response in responses:\n",
    "    response_messages.append(' '.join(response['message']))\n",
    "\n",
    "print(response_messages)\n",
    "\n",
    "\n"
   ]
  },
  {
   "cell_type": "code",
   "execution_count": 65,
   "id": "2896f376",
   "metadata": {},
   "outputs": [
    {
     "data": {
      "text/plain": [
       "{'message': 'Define what a projectile is and what projectile motion refers to.',\n",
       " 'question': 'Define what a projectile is and what projectile motion refers to.',\n",
       " 'audio': 'https://huggingface.co/datasets/mon1111/audio-files/resolve/main/teacher_1_001.wav?download=true'}"
      ]
     },
     "execution_count": 65,
     "metadata": {},
     "output_type": "execute_result"
    }
   ],
   "source": [
    "current_node"
   ]
  },
  {
   "cell_type": "code",
   "execution_count": 23,
   "id": "be2b2990",
   "metadata": {},
   "outputs": [],
   "source": [
    "\n",
    "def find_first_speaker_node(data, speaker_name):\n",
    "    \"\"\"\n",
    "    Find the first node that matches the speaker_name by traversing children recursively.\n",
    "    \n",
    "    Args:\n",
    "        data: The JSON data structure (can be a dict or list)\n",
    "        speaker_name: The speaker name to search for\n",
    "        \n",
    "    Returns:\n",
    "        The first matching node or None if not found\n",
    "    \"\"\"\n",
    "    if isinstance(data, dict):\n",
    "        # Check if this node matches the speaker\n",
    "        if data.get('speaker') == speaker_name:\n",
    "            return data\n",
    "        \n",
    "        # Recursively search children\n",
    "        if 'children' in data:\n",
    "            for child in data['children']:\n",
    "                result = find_first_speaker_node(child, speaker_name)\n",
    "                if result:\n",
    "                    return result\n",
    "                    \n",
    "    elif isinstance(data, list):\n",
    "        # Search through list items\n",
    "        for item in data:\n",
    "            result = find_first_speaker_node(item, speaker_name)\n",
    "            if result:\n",
    "                return result\n",
    "    \n",
    "    return None"
   ]
  },
  {
   "cell_type": "code",
   "execution_count": 42,
   "id": "6b082c10",
   "metadata": {},
   "outputs": [
    {
     "name": "stdout",
     "output_type": "stream",
     "text": [
      "(' You are a tutor assessing a student\\'s response. Choose the best response from the list of responses based on the criteria. Respond verbatim from the response.\\n    Question: Within the topic of projectile motion, how would you describe a projectile?\\n    Criteria: [\\'Answer must define projectile and projectile motion\\', \\'Answer must mention gravity as the sole influence on the object.\\']\\n    Responses: [\"That\\'s a good start. Think of the main force acting on the object once it has been launched.\", \\'Correct. Here comes the next question.\\', \"Remember that a projectile is an object moving through the air that is only affected by one specific force after it\\'s launched.\"]\\n    ', [{'speaker': 'teacher_2', 'message': \"That's a good start. Think of the main force acting on the object once it has been launched.\", 'tag': 'teacher_2_student_2_question_1_0003', 'audio link': 'voice/teacher_2_student_2_question_1_0003.wav', 'children': [{'speaker': 'student_2', 'message': \"Oh, right! Once it's launched, the main thing pulling it down would be gravity.\", 'tag': 'teacher_2_student_2_question_1_0004', 'audio link': 'voice/teacher_2_student_2_question_1_0004.wav', 'children': [{'speaker': 'teacher_2', 'message': 'Correct. Alright, moving to the next one.', 'tag': 'teacher_2_student_2_question_1_0005', 'audio link': 'voice/teacher_2_student_2_question_1_0005.wav'}]}]}, {'speaker': 'teacher_2', 'message': 'Correct. Here comes the next question.', 'tag': 'teacher_2_student_3_question_1_0003', 'audio link': 'voice/teacher_2_student_3_question_1_0003.wav'}, {'speaker': 'teacher_2', 'message': \"Remember that a projectile is an object moving through the air that is only affected by one specific force after it's launched.\", 'tag': 'teacher_2_student_6_question_1_0003', 'audio link': 'voice/teacher_2_student_6_question_1_0003.wav', 'children': [{'speaker': 'student_6', 'message': \"Oh. So it's an object, like, just flying through the air, and only gravity is pulling it down after it's launched.\", 'tag': 'teacher_2_student_6_question_1_0004', 'audio link': 'voice/teacher_2_student_6_question_1_0004.wav', 'children': [{'speaker': 'teacher_2', 'message': \"Good job. Good, let's move on.\", 'tag': 'teacher_2_student_6_question_1_0005', 'audio link': 'voice/teacher_2_student_6_question_1_0005.wav'}]}]}])\n"
     ]
    }
   ],
   "source": [
    "def build_response_prompt(speaker_name, current_node):\n",
    "    \"\"\"\n",
    "    Return prompt to choose the best response from the node.\n",
    "    \"\"\"\n",
    "    # find the question\n",
    "    question_node = [question for question in JSON_DATA['questions'] if question['message'] == current_node['question']][0]\n",
    "\n",
    "    # find the responses for the speaker\n",
    "    responses = []\n",
    "    for child in question_node['children']:\n",
    "        if child['speaker'] == speaker_name:   \n",
    "            response_node = find_first_speaker_node(child['children'], speaker_name)\n",
    "            responses.append(response_node)\n",
    "\n",
    "    response_messages = []\n",
    "    for response in responses:\n",
    "        response_messages.append(response['message'])\n",
    "\n",
    "    # build the prompt\n",
    "\n",
    "    prompt = f\"\"\" You are a tutor assessing a student's response. Choose the best response from the list of responses based on the criteria. Respond verbatim from the response.\n",
    "    Question: {current_node['question']}\n",
    "    Criteria: {current_node['criteria']}\n",
    "    Responses: {response_messages}\n",
    "    \"\"\"\n",
    "    return (prompt, responses)\n",
    "\n",
    "response_prompt = build_response_prompt('teacher_2', initial_question)\n",
    "print(response_prompt)"
   ]
  },
  {
   "cell_type": "code",
   "execution_count": 2,
   "id": "ebac2fe9",
   "metadata": {},
   "outputs": [
    {
     "name": "stdout",
     "output_type": "stream",
     "text": [
      "Collecting requests\n",
      "  Using cached requests-2.32.4-py3-none-any.whl.metadata (4.9 kB)\n",
      "Collecting charset_normalizer<4,>=2 (from requests)\n",
      "  Downloading charset_normalizer-3.4.2-cp312-cp312-macosx_10_13_universal2.whl.metadata (35 kB)\n",
      "Collecting idna<4,>=2.5 (from requests)\n",
      "  Using cached idna-3.10-py3-none-any.whl.metadata (10 kB)\n",
      "Collecting urllib3<3,>=1.21.1 (from requests)\n",
      "  Using cached urllib3-2.5.0-py3-none-any.whl.metadata (6.5 kB)\n",
      "Collecting certifi>=2017.4.17 (from requests)\n",
      "  Using cached certifi-2025.7.14-py3-none-any.whl.metadata (2.4 kB)\n",
      "Using cached requests-2.32.4-py3-none-any.whl (64 kB)\n",
      "Using cached certifi-2025.7.14-py3-none-any.whl (162 kB)\n",
      "Downloading charset_normalizer-3.4.2-cp312-cp312-macosx_10_13_universal2.whl (199 kB)\n",
      "Using cached idna-3.10-py3-none-any.whl (70 kB)\n",
      "Using cached urllib3-2.5.0-py3-none-any.whl (129 kB)\n",
      "Installing collected packages: urllib3, idna, charset_normalizer, certifi, requests\n",
      "\u001b[33m  WARNING: The script normalizer is installed in '/Library/Frameworks/Python.framework/Versions/3.12/bin' which is not on PATH.\n",
      "  Consider adding this directory to PATH or, if you prefer to suppress this warning, use --no-warn-script-location.\u001b[0m\u001b[33m\n",
      "\u001b[0mSuccessfully installed certifi-2025.7.14 charset_normalizer-3.4.2 idna-3.10 requests-2.32.4 urllib3-2.5.0\n",
      "\n",
      "\u001b[1m[\u001b[0m\u001b[34;49mnotice\u001b[0m\u001b[1;39;49m]\u001b[0m\u001b[39;49m A new release of pip is available: \u001b[0m\u001b[31;49m24.3.1\u001b[0m\u001b[39;49m -> \u001b[0m\u001b[32;49m25.2\u001b[0m\n",
      "\u001b[1m[\u001b[0m\u001b[34;49mnotice\u001b[0m\u001b[1;39;49m]\u001b[0m\u001b[39;49m To update, run: \u001b[0m\u001b[32;49mpython3 -m pip install --upgrade pip\u001b[0m\n",
      "Note: you may need to restart the kernel to use updated packages.\n"
     ]
    }
   ],
   "source": [
    "%pip install requests"
   ]
  },
  {
   "cell_type": "code",
   "execution_count": 1,
   "id": "8934f23e",
   "metadata": {},
   "outputs": [
    {
     "name": "stdout",
     "output_type": "stream",
     "text": [
      "Collecting websockets\n",
      "  Downloading websockets-15.0.1-cp312-cp312-macosx_11_0_arm64.whl.metadata (6.8 kB)\n",
      "Requirement already satisfied: nest_asyncio in /Users/allantan/Library/Python/3.12/lib/python/site-packages (1.6.0)\n",
      "Downloading websockets-15.0.1-cp312-cp312-macosx_11_0_arm64.whl (173 kB)\n",
      "Installing collected packages: websockets\n",
      "\u001b[33m  WARNING: The script websockets is installed in '/Library/Frameworks/Python.framework/Versions/3.12/bin' which is not on PATH.\n",
      "  Consider adding this directory to PATH or, if you prefer to suppress this warning, use --no-warn-script-location.\u001b[0m\u001b[33m\n",
      "\u001b[0mSuccessfully installed websockets-15.0.1\n",
      "\n",
      "\u001b[1m[\u001b[0m\u001b[34;49mnotice\u001b[0m\u001b[1;39;49m]\u001b[0m\u001b[39;49m A new release of pip is available: \u001b[0m\u001b[31;49m24.3.1\u001b[0m\u001b[39;49m -> \u001b[0m\u001b[32;49m25.2\u001b[0m\n",
      "\u001b[1m[\u001b[0m\u001b[34;49mnotice\u001b[0m\u001b[1;39;49m]\u001b[0m\u001b[39;49m To update, run: \u001b[0m\u001b[32;49mpython3 -m pip install --upgrade pip\u001b[0m\n",
      "Note: you may need to restart the kernel to use updated packages.\n"
     ]
    }
   ],
   "source": [
    "%pip install websockets nest_asyncio"
   ]
  },
  {
   "cell_type": "code",
   "execution_count": null,
   "id": "56f35961",
   "metadata": {},
   "outputs": [],
   "source": [
    "# WebSocket Testing in Notebook\n",
    "# Run this in Jupyter/Colab/any Python notebook\n",
    "\n",
    "import asyncio\n",
    "import websockets\n",
    "import json\n",
    "import base64\n",
    "import nest_asyncio\n",
    "\n",
    "# Enable nested async loops (needed for notebooks)\n",
    "nest_asyncio.apply()\n",
    "\n",
    "# Your HF Space WebSocket URL\n",
    "WS_URL = \"wss://allanctan-ai-be-mini-ai.hf.space/ws\"  # Replace with your actual URL\n",
    "AUDIO_FILE = \"voice/a_projectile_is.wav\"  # Your audio file path\n",
    "\n",
    "async def test_websocket_connection():\n",
    "    \"\"\"Test basic WebSocket connection\"\"\"\n",
    "    try:\n",
    "        print(\"Connecting to WebSocket...\")\n",
    "        async with websockets.connect(WS_URL) as websocket:\n",
    "            print(\"✅ Connected successfully!\")\n",
    "            \n",
    "            # Test ping\n",
    "            print(\"Sending ping...\")\n",
    "            await websocket.send(json.dumps({\"type\": \"ping\"}))\n",
    "            \n",
    "            response = await websocket.recv()\n",
    "            result = json.loads(response)\n",
    "            print(f\"Ping response: {result}\")\n",
    "            \n",
    "            return True\n",
    "    except Exception as e:\n",
    "        print(f\"❌ Connection failed: {e}\")\n",
    "        return False\n",
    "\n",
    "async def test_audio_transcription():\n",
    "    \"\"\"Test audio transcription via WebSocket\"\"\"\n",
    "    try:\n",
    "        print(\"Connecting for audio test...\")\n",
    "        async with websockets.connect(WS_URL) as websocket:\n",
    "            print(\"✅ Connected!\")\n",
    "            \n",
    "            # Read and encode audio file\n",
    "            print(f\"Reading audio file: {AUDIO_FILE}\")\n",
    "            with open(AUDIO_FILE, \"rb\") as f:\n",
    "                audio_data = base64.b64encode(f.read()).decode()\n",
    "            \n",
    "            print(f\"Audio data length: {len(audio_data)} characters\")\n",
    "            \n",
    "            # Send audio data\n",
    "            message = {\n",
    "                \"audio_data\": audio_data,\n",
    "                \"mime_type\": \"audio/wav\"\n",
    "            }\n",
    "            \n",
    "            print(\"Sending audio data...\")\n",
    "            await websocket.send(json.dumps(message))\n",
    "            \n",
    "            # Wait for response\n",
    "            print(\"Waiting for transcription...\")\n",
    "            response = await websocket.recv()\n",
    "            result = json.loads(response)\n",
    "            \n",
    "            print(\"📝 Transcription result:\")\n",
    "            print(f\"Type: {result.get('type')}\")\n",
    "            print(f\"Text: {result.get('text')}\")\n",
    "            \n",
    "            return result\n",
    "            \n",
    "    except FileNotFoundError:\n",
    "        print(f\"❌ Audio file not found: {AUDIO_FILE}\")\n",
    "        print(\"Please update AUDIO_FILE path or upload an audio file\")\n",
    "        return None\n",
    "    except Exception as e:\n",
    "        print(f\"❌ Transcription failed: {e}\")\n",
    "        return None\n",
    "\n",
    "async def test_multiple_messages():\n",
    "    \"\"\"Test sending multiple messages in one connection\"\"\"\n",
    "    try:\n",
    "        print(\"Testing multiple messages...\")\n",
    "        async with websockets.connect(WS_URL) as websocket:\n",
    "            \n",
    "            # Send ping\n",
    "            await websocket.send(json.dumps({\"type\": \"ping\"}))\n",
    "            response1 = await websocket.recv()\n",
    "            print(f\"Ping 1: {json.loads(response1)}\")\n",
    "            \n",
    "            # Send another ping\n",
    "            await websocket.send(json.dumps({\"type\": \"ping\"}))\n",
    "            response2 = await websocket.recv()\n",
    "            print(f\"Ping 2: {json.loads(response2)}\")\n",
    "            \n",
    "            # Send invalid message\n",
    "            await websocket.send(json.dumps({\"invalid\": \"message\"}))\n",
    "            response3 = await websocket.recv()\n",
    "            print(f\"Invalid message response: {json.loads(response3)}\")\n",
    "            \n",
    "            print(\"✅ Multiple messages test complete\")\n",
    "            \n",
    "    except Exception as e:\n",
    "        print(f\"❌ Multiple messages test failed: {e}\")\n",
    "\n",
    "# Test functions you can run in notebook cells\n",
    "\n",
    "# Cell 1: Test basic connection\n",
    "print(\"=== Testing WebSocket Connection ===\")\n",
    "result = asyncio.run(test_websocket_connection())\n",
    "\n",
    "# Cell 2: Test audio transcription  \n",
    "print(\"\\n=== Testing Audio Transcription ===\")\n",
    "transcription = asyncio.run(test_audio_transcription())\n",
    "\n",
    "# Cell 3: Test multiple messages\n",
    "print(\"\\n=== Testing Multiple Messages ===\")\n",
    "asyncio.run(test_multiple_messages())\n",
    "\n",
    "# Utility function: Upload and test any audio file\n",
    "def test_uploaded_audio(audio_file_path):\n",
    "    \"\"\"Test transcription with a specific audio file\"\"\"\n",
    "    global AUDIO_FILE\n",
    "    AUDIO_FILE = audio_file_path\n",
    "    return asyncio.run(test_audio_transcription())\n",
    "\n",
    "# For Google Colab: Upload file widget\n",
    "try:\n",
    "    from google.colab import files\n",
    "    \n",
    "    def upload_and_test_audio():\n",
    "        \"\"\"Upload audio file in Colab and test transcription\"\"\"\n",
    "        print(\"Upload your audio file:\")\n",
    "        uploaded = files.upload()\n",
    "        \n",
    "        for filename in uploaded.keys():\n",
    "            print(f\"Testing uploaded file: {filename}\")\n",
    "            result = test_uploaded_audio(filename)\n",
    "            return result\n",
    "    \n",
    "    print(\"\\n📁 In Colab, you can run: upload_and_test_audio()\")\n",
    "    \n",
    "except ImportError:\n",
    "    print(\"💡 For local notebook: Update AUDIO_FILE path and run test_audio_transcription()\")\n",
    "\n",
    "# Alternative: Test with base64 string directly\n",
    "def test_with_base64(base64_audio_string):\n",
    "    \"\"\"Test WebSocket with base64 audio string directly\"\"\"\n",
    "    async def test():\n",
    "        async with websockets.connect(WS_URL) as websocket:\n",
    "            message = {\n",
    "                \"audio_data\": base64_audio_string,\n",
    "                \"mime_type\": \"audio/wav\"\n",
    "            }\n",
    "            await websocket.send(json.dumps(message))\n",
    "            response = await websocket.recv()\n",
    "            return json.loads(response)\n",
    "    \n",
    "    return asyncio.run(test())\n",
    "\n",
    "print(\"\\n🚀 Run the cells above to test your WebSocket endpoint!\")\n",
    "print(f\"📡 Testing URL: {WS_URL}\")"
   ]
  }
 ],
 "metadata": {
  "kernelspec": {
   "display_name": "Python 3",
   "language": "python",
   "name": "python3"
  },
  "language_info": {
   "codemirror_mode": {
    "name": "ipython",
    "version": 3
   },
   "file_extension": ".py",
   "mimetype": "text/x-python",
   "name": "python",
   "nbconvert_exporter": "python",
   "pygments_lexer": "ipython3",
   "version": "3.12.8"
  }
 },
 "nbformat": 4,
 "nbformat_minor": 5
}
